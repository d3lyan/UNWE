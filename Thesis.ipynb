{
 "cells": [
  {
   "cell_type": "markdown",
   "id": "d6e6208b-cf36-4181-b19e-c0546722a24d",
   "metadata": {},
   "source": [
    "Political Influence on Stock Market Performance Analysis"
   ]
  },
  {
   "cell_type": "code",
   "execution_count": 2,
   "id": "7173a72f-2687-41e2-9bb5-72967fe46d7e",
   "metadata": {},
   "outputs": [
    {
     "name": "stdout",
     "output_type": "stream",
     "text": [
      "Collecting yfinance\n",
      "  Downloading yfinance-0.2.65-py2.py3-none-any.whl.metadata (5.8 kB)\n",
      "Requirement already satisfied: pandas>=1.3.0 in c:\\users\\dijon\\anaconda3\\lib\\site-packages (from yfinance) (2.2.3)\n",
      "Requirement already satisfied: numpy>=1.16.5 in c:\\users\\dijon\\anaconda3\\lib\\site-packages (from yfinance) (2.1.3)\n",
      "Requirement already satisfied: requests>=2.31 in c:\\users\\dijon\\anaconda3\\lib\\site-packages (from yfinance) (2.32.3)\n",
      "Collecting multitasking>=0.0.7 (from yfinance)\n",
      "  Downloading multitasking-0.0.12.tar.gz (19 kB)\n",
      "  Preparing metadata (setup.py): started\n",
      "  Preparing metadata (setup.py): finished with status 'done'\n",
      "Requirement already satisfied: platformdirs>=2.0.0 in c:\\users\\dijon\\anaconda3\\lib\\site-packages (from yfinance) (4.3.7)\n",
      "Requirement already satisfied: pytz>=2022.5 in c:\\users\\dijon\\anaconda3\\lib\\site-packages (from yfinance) (2024.1)\n",
      "Requirement already satisfied: frozendict>=2.3.4 in c:\\users\\dijon\\anaconda3\\lib\\site-packages (from yfinance) (2.4.2)\n",
      "Collecting peewee>=3.16.2 (from yfinance)\n",
      "  Downloading peewee-3.18.2.tar.gz (949 kB)\n",
      "     ---------------------------------------- 0.0/949.2 kB ? eta -:--:--\n",
      "     -------------------------------------- 949.2/949.2 kB 8.1 MB/s eta 0:00:00\n",
      "  Installing build dependencies: started\n",
      "  Installing build dependencies: finished with status 'done'\n",
      "  Getting requirements to build wheel: started\n",
      "  Getting requirements to build wheel: finished with status 'done'\n",
      "  Preparing metadata (pyproject.toml): started\n",
      "  Preparing metadata (pyproject.toml): finished with status 'done'\n",
      "Requirement already satisfied: beautifulsoup4>=4.11.1 in c:\\users\\dijon\\anaconda3\\lib\\site-packages (from yfinance) (4.12.3)\n",
      "Collecting curl_cffi>=0.7 (from yfinance)\n",
      "  Downloading curl_cffi-0.12.0-cp39-abi3-win_amd64.whl.metadata (15 kB)\n",
      "Requirement already satisfied: protobuf>=3.19.0 in c:\\users\\dijon\\anaconda3\\lib\\site-packages (from yfinance) (5.29.3)\n",
      "Collecting websockets>=13.0 (from yfinance)\n",
      "  Downloading websockets-15.0.1-cp313-cp313-win_amd64.whl.metadata (7.0 kB)\n",
      "Requirement already satisfied: soupsieve>1.2 in c:\\users\\dijon\\anaconda3\\lib\\site-packages (from beautifulsoup4>=4.11.1->yfinance) (2.5)\n",
      "Requirement already satisfied: cffi>=1.12.0 in c:\\users\\dijon\\anaconda3\\lib\\site-packages (from curl_cffi>=0.7->yfinance) (1.17.1)\n",
      "Requirement already satisfied: certifi>=2024.2.2 in c:\\users\\dijon\\anaconda3\\lib\\site-packages (from curl_cffi>=0.7->yfinance) (2025.7.14)\n",
      "Requirement already satisfied: pycparser in c:\\users\\dijon\\anaconda3\\lib\\site-packages (from cffi>=1.12.0->curl_cffi>=0.7->yfinance) (2.21)\n",
      "Requirement already satisfied: python-dateutil>=2.8.2 in c:\\users\\dijon\\anaconda3\\lib\\site-packages (from pandas>=1.3.0->yfinance) (2.9.0.post0)\n",
      "Requirement already satisfied: tzdata>=2022.7 in c:\\users\\dijon\\anaconda3\\lib\\site-packages (from pandas>=1.3.0->yfinance) (2025.2)\n",
      "Requirement already satisfied: six>=1.5 in c:\\users\\dijon\\anaconda3\\lib\\site-packages (from python-dateutil>=2.8.2->pandas>=1.3.0->yfinance) (1.17.0)\n",
      "Requirement already satisfied: charset-normalizer<4,>=2 in c:\\users\\dijon\\anaconda3\\lib\\site-packages (from requests>=2.31->yfinance) (3.3.2)\n",
      "Requirement already satisfied: idna<4,>=2.5 in c:\\users\\dijon\\anaconda3\\lib\\site-packages (from requests>=2.31->yfinance) (3.7)\n",
      "Requirement already satisfied: urllib3<3,>=1.21.1 in c:\\users\\dijon\\anaconda3\\lib\\site-packages (from requests>=2.31->yfinance) (2.3.0)\n",
      "Downloading yfinance-0.2.65-py2.py3-none-any.whl (119 kB)\n",
      "Downloading curl_cffi-0.12.0-cp39-abi3-win_amd64.whl (1.6 MB)\n",
      "   ---------------------------------------- 0.0/1.6 MB ? eta -:--:--\n",
      "   ---------------------------------------- 1.6/1.6 MB 9.2 MB/s eta 0:00:00\n",
      "Downloading websockets-15.0.1-cp313-cp313-win_amd64.whl (176 kB)\n",
      "Building wheels for collected packages: multitasking, peewee\n",
      "  Building wheel for multitasking (setup.py): started\n",
      "  Building wheel for multitasking (setup.py): finished with status 'done'\n",
      "  Created wheel for multitasking: filename=multitasking-0.0.12-py3-none-any.whl size=15618 sha256=89d2065c7863c4337ef930eafc4885b05158c2decf5f7704b20985a02e2a1525\n",
      "  Stored in directory: c:\\users\\dijon\\appdata\\local\\pip\\cache\\wheels\\1e\\df\\0f\\e2bbb22d689b30c681feb5410ab64a2523437b34c8ecfc6476\n",
      "  Building wheel for peewee (pyproject.toml): started\n",
      "  Building wheel for peewee (pyproject.toml): finished with status 'done'\n",
      "  Created wheel for peewee: filename=peewee-3.18.2-py3-none-any.whl size=139153 sha256=52d8a75a4987c68709c07f4b38a6004166391380bc19f68293543067cc694d62\n",
      "  Stored in directory: c:\\users\\dijon\\appdata\\local\\pip\\cache\\wheels\\1c\\48\\cc\\00b7d0e7defa21a58915654917c89eaedd32a6e614d8e4ad92\n",
      "Successfully built multitasking peewee\n",
      "Installing collected packages: peewee, multitasking, websockets, curl_cffi, yfinance\n",
      "\n",
      "   ---------------------------------------- 0/5 [peewee]\n",
      "   ---------------- ----------------------- 2/5 [websockets]\n",
      "   ---------------- ----------------------- 2/5 [websockets]\n",
      "   ------------------------ --------------- 3/5 [curl_cffi]\n",
      "   -------------------------------- ------- 4/5 [yfinance]\n",
      "   ---------------------------------------- 5/5 [yfinance]\n",
      "\n",
      "Successfully installed curl_cffi-0.12.0 multitasking-0.0.12 peewee-3.18.2 websockets-15.0.1 yfinance-0.2.65\n"
     ]
    },
    {
     "name": "stderr",
     "output_type": "stream",
     "text": [
      "  DEPRECATION: Building 'multitasking' using the legacy setup.py bdist_wheel mechanism, which will be removed in a future version. pip 25.3 will enforce this behaviour change. A possible replacement is to use the standardized build interface by setting the `--use-pep517` option, (possibly combined with `--no-build-isolation`), or adding a `pyproject.toml` file to the source tree of 'multitasking'. Discussion can be found at https://github.com/pypa/pip/issues/6334\n"
     ]
    }
   ],
   "source": [
    "!pip install yfinance"
   ]
  },
  {
   "cell_type": "code",
   "execution_count": null,
   "id": "42ee005b-fd65-4b5c-9573-6906bd4ce029",
   "metadata": {},
   "outputs": [],
   "source": [
    "!pip install --upgrade yfinance"
   ]
  },
  {
   "cell_type": "code",
   "execution_count": 3,
   "id": "c1c0286a-847f-4e66-b9f5-db400805d08f",
   "metadata": {},
   "outputs": [
    {
     "name": "stderr",
     "output_type": "stream",
     "text": [
      "C:\\Users\\Delyan\\AppData\\Local\\Temp\\ipykernel_10696\\2083838495.py:6: FutureWarning: YF.download() has changed argument auto_adjust default to True\n",
      "  sp500 = yf.download('^GSPC', start = '1920-01-17', end='2025-07-31')\n",
      "[*********************100%***********************]  1 of 1 completed\n"
     ]
    },
    {
     "data": {
      "text/html": [
       "<div>\n",
       "<style scoped>\n",
       "    .dataframe tbody tr th:only-of-type {\n",
       "        vertical-align: middle;\n",
       "    }\n",
       "\n",
       "    .dataframe tbody tr th {\n",
       "        vertical-align: top;\n",
       "    }\n",
       "\n",
       "    .dataframe thead th {\n",
       "        text-align: right;\n",
       "    }\n",
       "</style>\n",
       "<table border=\"1\" class=\"dataframe\">\n",
       "  <thead>\n",
       "    <tr style=\"text-align: right;\">\n",
       "      <th></th>\n",
       "      <th>Close</th>\n",
       "      <th>High</th>\n",
       "      <th>Low</th>\n",
       "      <th>Open</th>\n",
       "      <th>Volume</th>\n",
       "    </tr>\n",
       "    <tr>\n",
       "      <th>Price</th>\n",
       "      <th></th>\n",
       "      <th></th>\n",
       "      <th></th>\n",
       "      <th></th>\n",
       "      <th></th>\n",
       "    </tr>\n",
       "  </thead>\n",
       "  <tbody>\n",
       "    <tr>\n",
       "      <th>2025-07-24</th>\n",
       "      <td>6363.35009765625</td>\n",
       "      <td>6381.31005859375</td>\n",
       "      <td>6360.56982421875</td>\n",
       "      <td>6368.60009765625</td>\n",
       "      <td>5282720000</td>\n",
       "    </tr>\n",
       "    <tr>\n",
       "      <th>2025-07-25</th>\n",
       "      <td>6388.64013671875</td>\n",
       "      <td>6395.81982421875</td>\n",
       "      <td>6368.52978515625</td>\n",
       "      <td>6370.009765625</td>\n",
       "      <td>4470720000</td>\n",
       "    </tr>\n",
       "    <tr>\n",
       "      <th>2025-07-28</th>\n",
       "      <td>6389.77001953125</td>\n",
       "      <td>6401.06982421875</td>\n",
       "      <td>6375.7900390625</td>\n",
       "      <td>6397.68994140625</td>\n",
       "      <td>4565620000</td>\n",
       "    </tr>\n",
       "    <tr>\n",
       "      <th>2025-07-29</th>\n",
       "      <td>6370.85986328125</td>\n",
       "      <td>6409.259765625</td>\n",
       "      <td>6363.919921875</td>\n",
       "      <td>6405.6201171875</td>\n",
       "      <td>5076120000</td>\n",
       "    </tr>\n",
       "    <tr>\n",
       "      <th>2025-07-30</th>\n",
       "      <td>6362.89990234375</td>\n",
       "      <td>6396.5400390625</td>\n",
       "      <td>6336.3798828125</td>\n",
       "      <td>6381.22998046875</td>\n",
       "      <td>5375070000</td>\n",
       "    </tr>\n",
       "  </tbody>\n",
       "</table>\n",
       "</div>"
      ],
      "text/plain": [
       "                       Close              High               Low  \\\n",
       "Price                                                              \n",
       "2025-07-24  6363.35009765625  6381.31005859375  6360.56982421875   \n",
       "2025-07-25  6388.64013671875  6395.81982421875  6368.52978515625   \n",
       "2025-07-28  6389.77001953125  6401.06982421875   6375.7900390625   \n",
       "2025-07-29  6370.85986328125    6409.259765625    6363.919921875   \n",
       "2025-07-30  6362.89990234375   6396.5400390625   6336.3798828125   \n",
       "\n",
       "                        Open      Volume  \n",
       "Price                                     \n",
       "2025-07-24  6368.60009765625  5282720000  \n",
       "2025-07-25    6370.009765625  4470720000  \n",
       "2025-07-28  6397.68994140625  4565620000  \n",
       "2025-07-29   6405.6201171875  5076120000  \n",
       "2025-07-30  6381.22998046875  5375070000  "
      ]
     },
     "execution_count": 3,
     "metadata": {},
     "output_type": "execute_result"
    }
   ],
   "source": [
    "# Option 1 for importing data\n",
    "import pandas as pd\n",
    "import yfinance as yf\n",
    "import matplotlib.pyplot as plt\n",
    "\n",
    "sp500 = yf.download('^GSPC', start = '1920-01-17', end='2025-07-31')\n",
    "\n",
    "sp500.to_csv('sp500.csv')\n",
    "\n",
    "sp500df = pd.read_csv('sp500.csv', index_col='Price', parse_dates=True)\n",
    "sp500df.tail()\n"
   ]
  },
  {
   "cell_type": "code",
   "execution_count": 4,
   "id": "4c743c5f-52cc-4978-a8f9-53ed96a599d9",
   "metadata": {},
   "outputs": [
    {
     "data": {
      "text/html": [
       "<div>\n",
       "<style scoped>\n",
       "    .dataframe tbody tr th:only-of-type {\n",
       "        vertical-align: middle;\n",
       "    }\n",
       "\n",
       "    .dataframe tbody tr th {\n",
       "        vertical-align: top;\n",
       "    }\n",
       "\n",
       "    .dataframe thead th {\n",
       "        text-align: right;\n",
       "    }\n",
       "</style>\n",
       "<table border=\"1\" class=\"dataframe\">\n",
       "  <thead>\n",
       "    <tr style=\"text-align: right;\">\n",
       "      <th></th>\n",
       "      <th>Date</th>\n",
       "      <th>Close</th>\n",
       "      <th>High</th>\n",
       "      <th>Low</th>\n",
       "      <th>Open</th>\n",
       "      <th>Volume</th>\n",
       "    </tr>\n",
       "  </thead>\n",
       "  <tbody>\n",
       "    <tr>\n",
       "      <th>0</th>\n",
       "      <td>12/30/1927</td>\n",
       "      <td>17.660000</td>\n",
       "      <td>17.660000</td>\n",
       "      <td>17.660000</td>\n",
       "      <td>17.660000</td>\n",
       "      <td>0</td>\n",
       "    </tr>\n",
       "    <tr>\n",
       "      <th>1</th>\n",
       "      <td>1/3/1928</td>\n",
       "      <td>17.760000</td>\n",
       "      <td>17.760000</td>\n",
       "      <td>17.760000</td>\n",
       "      <td>17.760000</td>\n",
       "      <td>0</td>\n",
       "    </tr>\n",
       "    <tr>\n",
       "      <th>2</th>\n",
       "      <td>1/4/1928</td>\n",
       "      <td>17.719999</td>\n",
       "      <td>17.719999</td>\n",
       "      <td>17.719999</td>\n",
       "      <td>17.719999</td>\n",
       "      <td>0</td>\n",
       "    </tr>\n",
       "    <tr>\n",
       "      <th>3</th>\n",
       "      <td>1/5/1928</td>\n",
       "      <td>17.549999</td>\n",
       "      <td>17.549999</td>\n",
       "      <td>17.549999</td>\n",
       "      <td>17.549999</td>\n",
       "      <td>0</td>\n",
       "    </tr>\n",
       "    <tr>\n",
       "      <th>4</th>\n",
       "      <td>1/6/1928</td>\n",
       "      <td>17.660000</td>\n",
       "      <td>17.660000</td>\n",
       "      <td>17.660000</td>\n",
       "      <td>17.660000</td>\n",
       "      <td>0</td>\n",
       "    </tr>\n",
       "  </tbody>\n",
       "</table>\n",
       "</div>"
      ],
      "text/plain": [
       "         Date      Close       High        Low       Open  Volume\n",
       "0  12/30/1927  17.660000  17.660000  17.660000  17.660000       0\n",
       "1    1/3/1928  17.760000  17.760000  17.760000  17.760000       0\n",
       "2    1/4/1928  17.719999  17.719999  17.719999  17.719999       0\n",
       "3    1/5/1928  17.549999  17.549999  17.549999  17.549999       0\n",
       "4    1/6/1928  17.660000  17.660000  17.660000  17.660000       0"
      ]
     },
     "execution_count": 4,
     "metadata": {},
     "output_type": "execute_result"
    }
   ],
   "source": [
    "#Start after cleaning the csv file in excel\n",
    "sp500df = pd.read_csv('sp500_clean.csv', parse_dates=True)\n",
    "sp500df.head()\n"
   ]
  },
  {
   "cell_type": "code",
   "execution_count": 5,
   "id": "6ad6ccd2-e0b1-4f67-91a5-94cd93cae85a",
   "metadata": {},
   "outputs": [
    {
     "data": {
      "image/png": "[encoded data removed]",
      "text/plain": [
       "<Figure size 640x480 with 1 Axes>"
      ]
     },
     "metadata": {},
     "output_type": "display_data"
    }
   ],
   "source": [
    "#A graph show\n",
    "sp500df['Date'] = pd.to_datetime(sp500df['Date'])\n",
    "\n",
    "# Set 'Date' as index\n",
    "sp500df.set_index('Date', inplace=True)\n",
    "\n",
    "# Convert 'Close' to numeric, in case it's still object type\n",
    "sp500df['Close'] = pd.to_numeric(sp500df['Close'], errors='coerce')\n",
    "\n",
    "sp500df['Close'].plot(title='S&P 500 Close Price Over Time')\n",
    "plt.xlabel('Date')\n",
    "plt.ylabel('Close Price')\n",
    "plt.grid(True)\n",
    "plt.show()\n",
    "\n",
    "#sp500df['Close'].plot()"
   ]
  },
  {
   "cell_type": "code",
   "execution_count": null,
   "id": "0ade0617-1eb7-4ff2-b2d4-6e42b41cee01",
   "metadata": {},
   "outputs": [],
   "source": [
    "#Option 2 for importing data\n",
    "import pandas as pd\n",
    "import yfinance as yf\n",
    "import numpy as np\n",
    "from datetime import datetime\n",
    "\n",
    "start = datetime(2024, 1, 10)\n",
    "end = datetime(2025, 6, 1)\n",
    "\n",
    "# Fetch data using yfinance\n",
    "data = yf.download('^GSPC', start=start, end=end)\n",
    "\n",
    "# Add dummy variable: 1 if Close > Open = 1, else 0\n",
    "data[('dummy_var')] = (data[('Close', '^GSPC')] > data[('Open', '^GSPC')]).astype(int)\n",
    "data"
   ]
  },
  {
   "cell_type": "code",
   "execution_count": 34,
   "id": "cec442be-9670-46b6-9ff4-e43053448960",
   "metadata": {},
   "outputs": [
    {
     "data": {
      "text/html": [
       "<div>\n",
       "<style scoped>\n",
       "    .dataframe tbody tr th:only-of-type {\n",
       "        vertical-align: middle;\n",
       "    }\n",
       "\n",
       "    .dataframe tbody tr th {\n",
       "        vertical-align: top;\n",
       "    }\n",
       "\n",
       "    .dataframe thead th {\n",
       "        text-align: right;\n",
       "    }\n",
       "</style>\n",
       "<table border=\"1\" class=\"dataframe\">\n",
       "  <thead>\n",
       "    <tr style=\"text-align: right;\">\n",
       "      <th>Ticker</th>\n",
       "      <th>^GSPC</th>\n",
       "    </tr>\n",
       "    <tr>\n",
       "      <th>Date</th>\n",
       "      <th></th>\n",
       "    </tr>\n",
       "  </thead>\n",
       "  <tbody>\n",
       "    <tr>\n",
       "      <th>2024-01-10</th>\n",
       "      <td>4756.200195</td>\n",
       "    </tr>\n",
       "    <tr>\n",
       "      <th>2024-01-11</th>\n",
       "      <td>4739.580078</td>\n",
       "    </tr>\n",
       "    <tr>\n",
       "      <th>2024-01-12</th>\n",
       "      <td>4768.979980</td>\n",
       "    </tr>\n",
       "    <tr>\n",
       "      <th>2024-01-16</th>\n",
       "      <td>4747.120117</td>\n",
       "    </tr>\n",
       "    <tr>\n",
       "      <th>2024-01-17</th>\n",
       "      <td>4714.819824</td>\n",
       "    </tr>\n",
       "    <tr>\n",
       "      <th>...</th>\n",
       "      <td>...</td>\n",
       "    </tr>\n",
       "    <tr>\n",
       "      <th>2025-05-23</th>\n",
       "      <td>5767.410156</td>\n",
       "    </tr>\n",
       "    <tr>\n",
       "      <th>2025-05-27</th>\n",
       "      <td>5854.069824</td>\n",
       "    </tr>\n",
       "    <tr>\n",
       "      <th>2025-05-28</th>\n",
       "      <td>5881.879883</td>\n",
       "    </tr>\n",
       "    <tr>\n",
       "      <th>2025-05-29</th>\n",
       "      <td>5873.799805</td>\n",
       "    </tr>\n",
       "    <tr>\n",
       "      <th>2025-05-30</th>\n",
       "      <td>5843.660156</td>\n",
       "    </tr>\n",
       "  </tbody>\n",
       "</table>\n",
       "<p>348 rows × 1 columns</p>\n",
       "</div>"
      ],
      "text/plain": [
       "Ticker            ^GSPC\n",
       "Date                   \n",
       "2024-01-10  4756.200195\n",
       "2024-01-11  4739.580078\n",
       "2024-01-12  4768.979980\n",
       "2024-01-16  4747.120117\n",
       "2024-01-17  4714.819824\n",
       "...                 ...\n",
       "2025-05-23  5767.410156\n",
       "2025-05-27  5854.069824\n",
       "2025-05-28  5881.879883\n",
       "2025-05-29  5873.799805\n",
       "2025-05-30  5843.660156\n",
       "\n",
       "[348 rows x 1 columns]"
      ]
     },
     "execution_count": 34,
     "metadata": {},
     "output_type": "execute_result"
    }
   ],
   "source": [
    "data['Low']"
   ]
  },
  {
   "cell_type": "code",
   "execution_count": 2,
   "id": "3ec2bea8-c7f5-4a42-bd91-b72cea9e5d41",
   "metadata": {},
   "outputs": [
    {
     "ename": "NameError",
     "evalue": "name 'sp500df' is not defined",
     "output_type": "error",
     "traceback": [
      "\u001b[1;31m---------------------------------------------------------------------------\u001b[0m",
      "\u001b[1;31mNameError\u001b[0m                                 Traceback (most recent call last)",
      "Cell \u001b[1;32mIn[2], line 5\u001b[0m\n\u001b[0;32m      2\u001b[0m \u001b[38;5;28;01mimport\u001b[39;00m \u001b[38;5;21;01mmatplotlib\u001b[39;00m\u001b[38;5;21;01m.\u001b[39;00m\u001b[38;5;21;01mpyplot\u001b[39;00m \u001b[38;5;28;01mas\u001b[39;00m \u001b[38;5;21;01mplt\u001b[39;00m\n\u001b[0;32m      3\u001b[0m \u001b[38;5;66;03m#**************************\u001b[39;00m\n\u001b[0;32m      4\u001b[0m \u001b[38;5;66;03m# Plot ACF for 'Close' column\u001b[39;00m\n\u001b[1;32m----> 5\u001b[0m plot_acf(\u001b[43msp500df\u001b[49m[\u001b[38;5;124m'\u001b[39m\u001b[38;5;124mClose\u001b[39m\u001b[38;5;124m'\u001b[39m])\n\u001b[0;32m      6\u001b[0m plt\u001b[38;5;241m.\u001b[39mshow()\n",
      "\u001b[1;31mNameError\u001b[0m: name 'sp500df' is not defined"
     ]
    }
   ],
   "source": [
    "from statsmodels.graphics.tsaplots import plot_acf\n",
    "import matplotlib.pyplot as plt\n",
    "#**************************\n",
    "# Plot ACF for 'Close' column\n",
    "plot_acf(sp500df['Close'])\n",
    "plt.show()\n"
   ]
  },
  {
   "cell_type": "code",
   "execution_count": null,
   "id": "3c5516e8-2cfa-44c0-b893-0cc73921d6c0",
   "metadata": {},
   "outputs": [],
   "source": [
    "import pandas as pd\n",
    "from statsmodels.graphics.tsaplots import plot_acf\n",
    "\n",
    "sp500df['Close']\n",
    "\n",
    "plot_acf(sp500df)\n",
    "\n",
    "d = pd.read_csv(\"daily-minimum-temperatures-in-blr.csv\",\n",
    "                   header=0, index_col=0, parse_dates=True, \n",
    "                   squeeze=True)\n",
    "plot_acf(d)"
   ]
  },
  {
   "cell_type": "code",
   "execution_count": 19,
   "id": "b737f8e5-1c6c-4d56-bb6a-d65046d5bf73",
   "metadata": {},
   "outputs": [
    {
     "data": {
      "text/plain": [
       "np.float64(0.06120669127518778)"
      ]
     },
     "execution_count": 19,
     "metadata": {},
     "output_type": "execute_result"
    }
   ],
   "source": [
    "# Drop NA and select correct columns\n",
    "clean_data = data[[('Close', '^GSPC'), ('dummy_var', '')]].dropna()\n",
    "#clean_data\n",
    "corr = clean_data[('Close', '^GSPC')].corr(clean_data[('dummy_var', '')])\n",
    "corr\n"
   ]
  },
  {
   "cell_type": "code",
   "execution_count": 20,
   "id": "276562c4-8fcf-4233-9cf9-888a2bb88911",
   "metadata": {},
   "outputs": [
    {
     "data": {
      "text/plain": [
       "Price      Ticker\n",
       "Close      ^GSPC     0\n",
       "High       ^GSPC     0\n",
       "Low        ^GSPC     0\n",
       "Open       ^GSPC     0\n",
       "Volume     ^GSPC     0\n",
       "dummy_var            0\n",
       "dtype: int64"
      ]
     },
     "execution_count": 20,
     "metadata": {},
     "output_type": "execute_result"
    }
   ],
   "source": [
    "data.isnull().sum()"
   ]
  },
  {
   "cell_type": "code",
   "execution_count": 28,
   "id": "7f338398-9414-47c2-8468-397d950866d5",
   "metadata": {},
   "outputs": [
    {
     "data": {
      "text/plain": [
       "<Axes: xlabel='Date'>"
      ]
     },
     "execution_count": 28,
     "metadata": {},
     "output_type": "execute_result"
    },
    {
     "data": {
      "image/png": "[encoded data removed]",
      "text/plain": [
       "<Figure size 640x480 with 1 Axes>"
      ]
     },
     "metadata": {},
     "output_type": "display_data"
    }
   ],
   "source": [
    "data[['Low']].plot()"
   ]
  },
  {
   "cell_type": "code",
   "execution_count": null,
   "id": "a0b4a615-e238-493e-9ca4-6430bf477d51",
   "metadata": {},
   "outputs": [],
   "source": [
    "start = datetime(2025, 2, 17)\n",
    "end = datetime(2025, 3, 11)\n",
    "\n",
    "# Fetch data using yfinance\n",
    "data = yf.download('AAPL', start=start, end=end)\n",
    "data"
   ]
  },
  {
   "cell_type": "code",
   "execution_count": 27,
   "id": "7c82c0f3-4c15-42fc-98f8-7a7827706c82",
   "metadata": {},
   "outputs": [
    {
     "name": "stderr",
     "output_type": "stream",
     "text": [
      "C:\\Users\\Dijon\\AppData\\Local\\Temp\\ipykernel_3604\\1527995119.py:5: FutureWarning: YF.download() has changed argument auto_adjust default to True\n",
      "  data = yf.download('^IXIC', start=start, end=end)\n",
      "[*********************100%***********************]  1 of 1 completed\n"
     ]
    },
    {
     "data": {
      "text/html": [
       "<div>\n",
       "<style scoped>\n",
       "    .dataframe tbody tr th:only-of-type {\n",
       "        vertical-align: middle;\n",
       "    }\n",
       "\n",
       "    .dataframe tbody tr th {\n",
       "        vertical-align: top;\n",
       "    }\n",
       "\n",
       "    .dataframe thead tr th {\n",
       "        text-align: left;\n",
       "    }\n",
       "\n",
       "    .dataframe thead tr:last-of-type th {\n",
       "        text-align: right;\n",
       "    }\n",
       "</style>\n",
       "<table border=\"1\" class=\"dataframe\">\n",
       "  <thead>\n",
       "    <tr>\n",
       "      <th>Price</th>\n",
       "      <th>Close</th>\n",
       "      <th>High</th>\n",
       "      <th>Low</th>\n",
       "      <th>Open</th>\n",
       "      <th>Volume</th>\n",
       "    </tr>\n",
       "    <tr>\n",
       "      <th>Ticker</th>\n",
       "      <th>^IXIC</th>\n",
       "      <th>^IXIC</th>\n",
       "      <th>^IXIC</th>\n",
       "      <th>^IXIC</th>\n",
       "      <th>^IXIC</th>\n",
       "    </tr>\n",
       "    <tr>\n",
       "      <th>Date</th>\n",
       "      <th></th>\n",
       "      <th></th>\n",
       "      <th></th>\n",
       "      <th></th>\n",
       "      <th></th>\n",
       "    </tr>\n",
       "  </thead>\n",
       "  <tbody>\n",
       "    <tr>\n",
       "      <th>2025-02-18</th>\n",
       "      <td>20041.259766</td>\n",
       "      <td>20110.119141</td>\n",
       "      <td>19909.740234</td>\n",
       "      <td>20090.550781</td>\n",
       "      <td>8683170000</td>\n",
       "    </tr>\n",
       "    <tr>\n",
       "      <th>2025-02-19</th>\n",
       "      <td>20056.250000</td>\n",
       "      <td>20099.390625</td>\n",
       "      <td>19928.890625</td>\n",
       "      <td>19994.500000</td>\n",
       "      <td>8171530000</td>\n",
       "    </tr>\n",
       "    <tr>\n",
       "      <th>2025-02-20</th>\n",
       "      <td>19962.359375</td>\n",
       "      <td>20041.150391</td>\n",
       "      <td>19795.019531</td>\n",
       "      <td>20029.189453</td>\n",
       "      <td>7329270000</td>\n",
       "    </tr>\n",
       "    <tr>\n",
       "      <th>2025-02-21</th>\n",
       "      <td>19524.009766</td>\n",
       "      <td>20016.660156</td>\n",
       "      <td>19510.910156</td>\n",
       "      <td>20006.689453</td>\n",
       "      <td>8461020000</td>\n",
       "    </tr>\n",
       "    <tr>\n",
       "      <th>2025-02-24</th>\n",
       "      <td>19286.929688</td>\n",
       "      <td>19644.230469</td>\n",
       "      <td>19275.460938</td>\n",
       "      <td>19590.849609</td>\n",
       "      <td>7414760000</td>\n",
       "    </tr>\n",
       "  </tbody>\n",
       "</table>\n",
       "</div>"
      ],
      "text/plain": [
       "Price              Close          High           Low          Open      Volume\n",
       "Ticker             ^IXIC         ^IXIC         ^IXIC         ^IXIC       ^IXIC\n",
       "Date                                                                          \n",
       "2025-02-18  20041.259766  20110.119141  19909.740234  20090.550781  8683170000\n",
       "2025-02-19  20056.250000  20099.390625  19928.890625  19994.500000  8171530000\n",
       "2025-02-20  19962.359375  20041.150391  19795.019531  20029.189453  7329270000\n",
       "2025-02-21  19524.009766  20016.660156  19510.910156  20006.689453  8461020000\n",
       "2025-02-24  19286.929688  19644.230469  19275.460938  19590.849609  7414760000"
      ]
     },
     "execution_count": 27,
     "metadata": {},
     "output_type": "execute_result"
    }
   ],
   "source": [
    "start = datetime(2025, 2, 17)\n",
    "end = datetime(2025, 3, 28)\n",
    "\n",
    "# Fetch data using yfinance\n",
    "data = yf.download('^IXIC', start=start, end=end)\n",
    "data.head()"
   ]
  },
  {
   "cell_type": "code",
   "execution_count": null,
   "id": "3a390319-7dba-4f3a-aea8-81087bca3492",
   "metadata": {},
   "outputs": [],
   "source": [
    "#self._set_session(session or requests.Session(impersonate=\"chrome\"))"
   ]
  },
  {
   "cell_type": "code",
   "execution_count": 23,
   "id": "d1f06c23-db13-4704-b71b-b53ebcf8b3e9",
   "metadata": {},
   "outputs": [],
   "source": [
    "  #from curl_cffi import requests\n",
    "  #session = requests.Session(impersonate=\"chrome\")\n",
    "  #ticker = yf.Ticker('^IXIC', session=session)"
   ]
  },
  {
   "cell_type": "code",
   "execution_count": null,
   "id": "ab2b17dc-7f0c-4af8-80d2-dd970b859ddf",
   "metadata": {},
   "outputs": [],
   "source": [
    "Първо емпиричната част\n",
    "с 0 и 1 - регресионен модел(като фактор), може да се добави и обема като фактор\n",
    "\n",
    "1.Информация за индексите /Сваляне на данните\n",
    "Уточнаване на събития\n",
    "2. Информация за анализите или политически събития; почистване. спад, скок\n",
    "    Подготовка на данните, графики, описания на динамиката; процент на прираст\n",
    "    Трениране на модел\n",
    "3. Метода с който правя нещо, \n",
    "4. поне 9 месеца\n"
   ]
  }
 ],
 "metadata": {
  "kernelspec": {
   "display_name": "Python 3 (ipykernel)",
   "language": "python",
   "name": "python3"
  },
  "language_info": {
   "codemirror_mode": {
    "name": "ipython",
    "version": 3
   },
   "file_extension": ".py",
   "mimetype": "text/x-python",
   "name": "python",
   "nbconvert_exporter": "python",
   "pygments_lexer": "ipython3",
   "version": "3.10.9"
  }
 },
 "nbformat": 4,
 "nbformat_minor": 5
}
