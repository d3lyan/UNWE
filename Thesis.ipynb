{
 "cells": [
  {
   "cell_type": "markdown",
   "id": "d6e6208b-cf36-4181-b19e-c0546722a24d",
   "metadata": {},
   "source": [
    "Political Influence on Stock Market Performance Analysis"
   ]
  },
  {
   "cell_type": "code",
   "execution_count": null,
   "id": "7173a72f-2687-41e2-9bb5-72967fe46d7e",
   "metadata": {},
   "outputs": [],
   "source": [
    "!pip install yfinance"
   ]
  },
  {
   "cell_type": "code",
   "execution_count": null,
   "id": "42ee005b-fd65-4b5c-9573-6906bd4ce029",
   "metadata": {},
   "outputs": [],
   "source": [
    "!pip install --upgrade yfinance"
   ]
  },
  {
   "cell_type": "code",
   "execution_count": null,
   "id": "c1c0286a-847f-4e66-b9f5-db400805d08f",
   "metadata": {},
   "outputs": [],
   "source": [
    "import pandas as pd\n",
    "import yfinance as yf\n",
    "\n",
    "sp500 = yf.download('^GSPC', start = '1920-01-17', end='2025-03-11')\n",
    "\n",
    "sp500.to_csv('sp500.csv')\n",
    "\n",
    "sp500df = pd.read_csv('sp500.csv', index_col='Price', parse_dates=True)\n",
    "sp500df.head()"
   ]
  },
  {
   "cell_type": "code",
   "execution_count": null,
   "id": "0ade0617-1eb7-4ff2-b2d4-6e42b41cee01",
   "metadata": {},
   "outputs": [],
   "source": [
    "import pandas as pd\n",
    "import yfinance as yf\n",
    "import numpy as np\n",
    "from datetime import datetime\n",
    "\n",
    "start = datetime(2024, 1, 10)\n",
    "end = datetime(2025, 6, 1)\n",
    "\n",
    "# Fetch data using yfinance\n",
    "data = yf.download('^GSPC', start=start, end=end)\n",
    "\n",
    "# Add dummy variable: 1 if Close > Open = 1, else 0\n",
    "data[('dummy_var')] = (data[('Close', '^GSPC')] > data[('Open', '^GSPC')]).astype(int)\n",
    "data"
   ]
  },
  {
   "cell_type": "code",
   "execution_count": null,
   "id": "cec442be-9670-46b6-9ff4-e43053448960",
   "metadata": {},
   "outputs": [],
   "source": [
    "data['Low']"
   ]
  },
  {
   "cell_type": "code",
   "execution_count": null,
   "id": "b737f8e5-1c6c-4d56-bb6a-d65046d5bf73",
   "metadata": {},
   "outputs": [],
   "source": [
    "# Drop NA and select correct columns\n",
    "clean_data = data[[('Close', '^GSPC'), ('dummy_var', '')]].dropna()\n",
    "#clean_data\n",
    "corr = clean_data[('Close', '^GSPC')].corr(clean_data[('dummy_var', '')])\n",
    "corr\n"
   ]
  },
  {
   "cell_type": "code",
   "execution_count": null,
   "id": "276562c4-8fcf-4233-9cf9-888a2bb88911",
   "metadata": {},
   "outputs": [],
   "source": [
    "data.isnull().sum()"
   ]
  },
  {
   "cell_type": "code",
   "execution_count": null,
   "id": "7f338398-9414-47c2-8468-397d950866d5",
   "metadata": {},
   "outputs": [],
   "source": [
    "data[['Volume']].plot()"
   ]
  },
  {
   "cell_type": "code",
   "execution_count": null,
   "id": "a0b4a615-e238-493e-9ca4-6430bf477d51",
   "metadata": {},
   "outputs": [],
   "source": [
    "start = datetime(2025, 2, 17)\n",
    "end = datetime(2025, 3, 11)\n",
    "\n",
    "# Fetch data using yfinance\n",
    "data = yf.download('AAPL', start=start, end=end)\n",
    "data"
   ]
  },
  {
   "cell_type": "code",
   "execution_count": null,
   "id": "7c82c0f3-4c15-42fc-98f8-7a7827706c82",
   "metadata": {},
   "outputs": [],
   "source": [
    "start = datetime(2025, 2, 17)\n",
    "end = datetime(2025, 3, 28)\n",
    "\n",
    "# Fetch data using yfinance\n",
    "data = yf.download('^IXIC', start=start, end=end)\n",
    "data.head()"
   ]
  },
  {
   "cell_type": "code",
   "execution_count": null,
   "id": "3a390319-7dba-4f3a-aea8-81087bca3492",
   "metadata": {},
   "outputs": [],
   "source": [
    "self._set_session(session or requests.Session(impersonate=\"chrome\"))"
   ]
  },
  {
   "cell_type": "code",
   "execution_count": null,
   "id": "d1f06c23-db13-4704-b71b-b53ebcf8b3e9",
   "metadata": {},
   "outputs": [],
   "source": [
    "  from curl_cffi import requests\n",
    "  session = requests.Session(impersonate=\"chrome\")\n",
    "  ticker = yf.Ticker('^IXIC', session=session)"
   ]
  },
  {
   "cell_type": "code",
   "execution_count": null,
   "id": "ab2b17dc-7f0c-4af8-80d2-dd970b859ddf",
   "metadata": {},
   "outputs": [],
   "source": [
    "Първо емпиричната част\n",
    "с 0 и 1 - регресионен модел(като фактор), може да се добави и обема като фактор\n",
    "\n",
    "1.Информация за индексите /Сваляне на данните\n",
    "Уточнаване на събития\n",
    "2. Информация за анализите или политически събития; почистване. спад, скок\n",
    "    Подготовка на данните, графики, описания на динамиката; процент на прираст\n",
    "    Трениране на модел\n",
    "3. Метода с който правя нещо, \n",
    "4. поне 9 месеца\n"
   ]
  }
 ],
 "metadata": {
  "kernelspec": {
   "display_name": "Python 3 (ipykernel)",
   "language": "python",
   "name": "python3"
  },
  "language_info": {
   "codemirror_mode": {
    "name": "ipython",
    "version": 3
   },
   "file_extension": ".py",
   "mimetype": "text/x-python",
   "name": "python",
   "nbconvert_exporter": "python",
   "pygments_lexer": "ipython3",
   "version": "3.13.5"
  }
 },
 "nbformat": 4,
 "nbformat_minor": 5
}
